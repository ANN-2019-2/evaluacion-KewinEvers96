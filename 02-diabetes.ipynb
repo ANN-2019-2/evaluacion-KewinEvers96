{
  "nbformat": 4,
  "nbformat_minor": 0,
  "metadata": {
    "colab": {
      "name": "02-diabetes.ipynb",
      "provenance": [],
      "collapsed_sections": []
    },
    "kernelspec": {
      "display_name": "Python 3",
      "language": "python",
      "name": "python3"
    },
    "language_info": {
      "codemirror_mode": {
        "name": "ipython",
        "version": 3
      },
      "file_extension": ".py",
      "mimetype": "text/x-python",
      "name": "python",
      "nbconvert_exporter": "python",
      "pygments_lexer": "ipython3",
      "version": "3.7.3"
    }
  },
  "cells": [
    {
      "cell_type": "code",
      "metadata": {
        "colab_type": "code",
        "id": "n3lnWjvI83ix",
        "colab": {}
      },
      "source": [
        "# Pronóstico de la evolución de pacientes con diabetes"
      ],
      "execution_count": 0,
      "outputs": []
    },
    {
      "cell_type": "markdown",
      "metadata": {
        "id": "FlXkGuCKOwcA",
        "colab_type": "text"
      },
      "source": [
        "## Descripción del problema real"
      ]
    },
    {
      "cell_type": "markdown",
      "metadata": {
        "id": "8jUo9TbdOwcB",
        "colab_type": "text"
      },
      "source": [
        "Los tratamientos médicos están basados en las expectativas de recuperación o el avance de una enfermedad para tomar decisiones. En este caso, un equipo médico desea contar con pronósticos de pacientes con diabetes para tomar decisiones sobre su tratamiento."
      ]
    },
    {
      "cell_type": "markdown",
      "metadata": {
        "id": "Bhf7CQbTOwcC",
        "colab_type": "text"
      },
      "source": [
        "## Descripción del problema en términos de los datos"
      ]
    },
    {
      "cell_type": "markdown",
      "metadata": {
        "id": "II_pR6YUOwcC",
        "colab_type": "text"
      },
      "source": [
        "Se desea determinar el progreso de la diabeteis un año hacia adelante a partir de las variables medidas para 442 pacientes. La información está almacenada en el archivo `datos/diabetes.csv`. Las variables medidas son: edad, sexo, indice de masa corporal, presión sanguinea y seis medidas de serum en la sangre. Se desea pronósticar el progreso de la enfermedad a partir de las variables dadas."
      ]
    },
    {
      "cell_type": "markdown",
      "metadata": {
        "id": "MoXBQ3ptOwcD",
        "colab_type": "text"
      },
      "source": [
        "## Aproximaciones posibles"
      ]
    },
    {
      "cell_type": "markdown",
      "metadata": {
        "id": "0uAEHm_TOwcD",
        "colab_type": "text"
      },
      "source": [
        "En este caso, se desea comparar los resultados de un modelo de regresión lineal y un modelo de redes neuronales artificiales."
      ]
    },
    {
      "cell_type": "markdown",
      "metadata": {
        "id": "o7KLUinuOwcE",
        "colab_type": "text"
      },
      "source": [
        "## Requerimientos"
      ]
    },
    {
      "cell_type": "markdown",
      "metadata": {
        "id": "gTiwJxO3OwcE",
        "colab_type": "text"
      },
      "source": [
        "Usted debe:\n",
        "\n",
        "* Determinar cuáles de las variables consideradas son relevantes para el problema.\n",
        "\n",
        "\n",
        "* Determinar si hay alguna transformación de las variables de entrada o de salida que mejore el pronóstico del modelo.\n",
        "\n",
        "\n",
        "* Construir un modelo de regresión lineal que sirva como base para construir un modelo de redes neuronales artificiales.\n",
        "\n",
        "\n",
        "\n",
        "* Construir un modelo de redes neuronales artificiales. Asimismo, debe determinar el número de neuronas en la capa o capas ocultas.\n",
        "\n",
        "\n",
        "* Utiizar una técnica como crossvalidation u otra similar para establecer la robustez del modelo."
      ]
    },
    {
      "cell_type": "code",
      "metadata": {
        "id": "JbJfw35EOwcF",
        "colab_type": "code",
        "colab": {
          "resources": {
            "http://localhost:8080/nbextensions/google.colab/files.js": {
              "data": "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",
              "ok": true,
              "headers": [
                [
                  "content-type",
                  "application/javascript"
                ]
              ],
              "status": 200,
              "status_text": ""
            }
          },
          "base_uri": "https://localhost:8080/",
          "height": 128
        },
        "outputId": "72112f21-968e-40d4-c9fd-0b8c7579623d"
      },
      "source": [
        "import pandas as pd\n",
        "import numpy as np\n",
        "import matplotlib.pyplot as plt \n",
        "import tensorflow as tf\n",
        "import statsmodels.api as sm \n",
        "import io\n",
        "import math\n",
        "\n",
        "# Necesario para trabajar con el archivo desde google colab\n",
        "from google.colab import files \n",
        "uploaded = files.upload()\n",
        "\n",
        "\n"
      ],
      "execution_count": 3,
      "outputs": [
        {
          "output_type": "stream",
          "text": [
            "/usr/local/lib/python3.6/dist-packages/statsmodels/tools/_testing.py:19: FutureWarning: pandas.util.testing is deprecated. Use the functions in the public API at pandas.testing instead.\n",
            "  import pandas.util.testing as tm\n"
          ],
          "name": "stderr"
        },
        {
          "output_type": "display_data",
          "data": {
            "text/html": [
              "\n",
              "     <input type=\"file\" id=\"files-16967989-d920-4b15-86fd-41a5ee173250\" name=\"files[]\" multiple disabled />\n",
              "     <output id=\"result-16967989-d920-4b15-86fd-41a5ee173250\">\n",
              "      Upload widget is only available when the cell has been executed in the\n",
              "      current browser session. Please rerun this cell to enable.\n",
              "      </output>\n",
              "      <script src=\"/nbextensions/google.colab/files.js\"></script> "
            ],
            "text/plain": [
              "<IPython.core.display.HTML object>"
            ]
          },
          "metadata": {
            "tags": []
          }
        },
        {
          "output_type": "stream",
          "text": [
            "Saving diabetes.csv to diabetes.csv\n"
          ],
          "name": "stdout"
        }
      ]
    },
    {
      "cell_type": "markdown",
      "metadata": {
        "id": "drtzcfromFpE",
        "colab_type": "text"
      },
      "source": [
        "# Estrategia Forward\n"
      ]
    },
    {
      "cell_type": "code",
      "metadata": {
        "id": "GhvsdcoqOwcI",
        "colab_type": "code",
        "colab": {
          "base_uri": "https://localhost:8080/",
          "height": 34
        },
        "outputId": "a0222d1f-9382-4012-86ae-7e6e07f3cd44"
      },
      "source": [
        "data = pd.read_csv(io.StringIO(uploaded['diabetes.csv'].decode('utf-8')))\n",
        "\n",
        "X = data.drop(labels=\"Y\", axis=\"columns\")\n",
        "y = data[\"Y\"]\n",
        "\n",
        "# ==================\n",
        "# Estrategia forward\n",
        "# ==================\n",
        "\n",
        "def foward_strategy(X, y, optVar, variables, aic):\n",
        "\n",
        "    found = False\n",
        "    aux = optVar[:]\n",
        "    for x in variables:\n",
        "        \n",
        "        aux.append(x)\n",
        "        modelAux = sm.OLS(y, X[aux].to_numpy())\n",
        "        results = modelAux.fit()\n",
        "        if(results.aic < aic):\n",
        "            optVar = aux[:]\n",
        "            found = True\n",
        "            aic = results.aic\n",
        "        aux.pop()\n",
        "\n",
        "    if found == False and len(aux) == len(optVariables) + 1:\n",
        "        aux.pop()\n",
        "    return (found, optVar, aic)\n",
        "\n",
        "\n",
        "\n",
        "variables = list(X.keys())\n",
        "optVariables = []\n",
        "\n",
        "m1 = sm.OLS(y, X[variables[0]])\n",
        "fstRs = m1.fit()\n",
        "aic1 = fstRs.aic\n",
        "optVariables.append(variables[0])\n",
        "\n",
        "# ===============================\n",
        "# Búsqueda de la primera variable\n",
        "# ===============================\n",
        "\n",
        "for x in variables:\n",
        "    m2 = sm.OLS( y,X[x])\n",
        "    res = m2.fit()\n",
        "    aic2 = res.aic\n",
        "    if aic2 < aic1:\n",
        "        optVariables.pop()\n",
        "        aic1 = aic2\n",
        "        optVariables.append(x)\n",
        "\n",
        "\n",
        "x = optVariables[0]\n",
        "variables.pop(variables.index(x))\n",
        "\n",
        "\n",
        "while(len(variables) > 0):\n",
        "    found, x1, aic1 = foward_strategy(X, y,optVariables, variables, aic1)\n",
        "\n",
        "    if found == False:\n",
        "        break   \n",
        "\n",
        "    variables.pop(variables.index(x1[-1]))\n",
        "    optVariables = x1\n",
        "    \n",
        "\n",
        "fwd = optVariables[:]\n",
        "print(\"Variables:\\t\" , fwd)"
      ],
      "execution_count": 4,
      "outputs": [
        {
          "output_type": "stream",
          "text": [
            "Variables:\t ['bmi', 's5', 'bp']\n"
          ],
          "name": "stdout"
        }
      ]
    },
    {
      "cell_type": "markdown",
      "metadata": {
        "id": "mu1oiC6dogf7",
        "colab_type": "text"
      },
      "source": [
        "# Estrategia backward."
      ]
    },
    {
      "cell_type": "code",
      "metadata": {
        "id": "7F8yCGtGokNw",
        "colab_type": "code",
        "colab": {
          "base_uri": "https://localhost:8080/",
          "height": 34
        },
        "outputId": "8c9cf8aa-d6e9-4428-add7-41637c7609ba"
      },
      "source": [
        "def backward_strategy(X, y, optVar, aic):\n",
        "    \n",
        "    found = False\n",
        "    variables = optVar[:]\n",
        "    res = []\n",
        "    for i in range(len(optVar)):\n",
        "        variables.pop(i)\n",
        "        m = sm.OLS(y, X[variables])\n",
        "        results = m.fit()\n",
        "        if results.aic < aic:\n",
        "            aic = results.aic\n",
        "            res = variables[:]\n",
        "            found = True\n",
        "        \n",
        "        variables = optVar[:]\n",
        "\n",
        "    return found, res, aic\n",
        "\n",
        "optVar = []\n",
        "variables = list(X.keys())\n",
        "model = sm.OLS(y, X)\n",
        "results = model.fit()\n",
        "aic = results.aic\n",
        "\n",
        "vars = variables[:]\n",
        "while True:\n",
        "    found, vars, aic = backward_strategy(X, y, vars, aic)\n",
        "    if not found:\n",
        "        break\n",
        "    variables = vars[:]\n",
        "\n",
        "print(\"Variables con mejor criterio de información para el modelo:\", variables)"
      ],
      "execution_count": 5,
      "outputs": [
        {
          "output_type": "stream",
          "text": [
            "Variables con mejor criterio de información para el modelo: ['bmi', 'bp', 's5']\n"
          ],
          "name": "stdout"
        }
      ]
    },
    {
      "cell_type": "markdown",
      "metadata": {
        "id": "QkYldZbdFD8q",
        "colab_type": "text"
      },
      "source": [
        "# Análisis de transformaciones a las variables encontradas."
      ]
    },
    {
      "cell_type": "code",
      "metadata": {
        "id": "ECcqSqMOFglA",
        "colab_type": "code",
        "colab": {
          "base_uri": "https://localhost:8080/",
          "height": 119
        },
        "outputId": "ee182045-a3ae-4d11-ef51-242c082d0aef"
      },
      "source": [
        "from sklearn.linear_model import LinearRegression\n",
        "from sklearn import metrics\n",
        "from sklearn.model_selection import train_test_split\n",
        "from sklearn.preprocessing import MinMaxScaler\n",
        "\n",
        "def f_cuad(x):\n",
        "    return x ** 2\n",
        "def f_sqrt(x):\n",
        "    return np.sqrt(x)\n",
        "\n",
        "transformaciones = [(\"Cuadrática\", f_cuad), (\"Raíz cuadrática\", f_sqrt), (\"Sin transformación\",lambda x: x)]\n",
        "\n",
        "def evalTransformaciones(transformaciones, X, y):\n",
        "\n",
        "    for trans in transformaciones:\n",
        "        nombre, f = trans\n",
        "        X = f(X)\n",
        "        y = f(y)\n",
        "        print(nombre)\n",
        "        X_train, X_test, y_train, y_test = train_test_split(\n",
        "                                                            X, y,\n",
        "                                                            test_size=0.3,\n",
        "                                                            random_state=42) \n",
        "\n",
        "        lr  = LinearRegression()\n",
        "        lr.fit(X_train, y_train)\n",
        "        y_pred = lr.predict(X_test)\n",
        "        print(\"MSE:\", metrics.mean_squared_error(y_test, y_pred))\n",
        "evalTransformaciones(transformaciones, X[variables].to_numpy(), y.to_numpy())\n"
      ],
      "execution_count": 6,
      "outputs": [
        {
          "output_type": "stream",
          "text": [
            "Cuadrática\n",
            "MSE: 650330531.5223882\n",
            "Raíz cuadrática\n",
            "MSE: 5650.526083187493\n",
            "Sin transformación\n",
            "MSE: 5650.526083187493\n"
          ],
          "name": "stdout"
        }
      ]
    },
    {
      "cell_type": "markdown",
      "metadata": {
        "id": "chRrS4Hld8eD",
        "colab_type": "text"
      },
      "source": [
        "# Modelo de regresión Lineal.\n",
        "\n",
        "Se creará un modelo de regresión lineal.\n"
      ]
    },
    {
      "cell_type": "code",
      "metadata": {
        "id": "1Fio9m-Zf00o",
        "colab_type": "code",
        "colab": {
          "base_uri": "https://localhost:8080/",
          "height": 51
        },
        "outputId": "e2e8dd5f-0116-422b-923a-e5aea7ef9526"
      },
      "source": [
        "scaler = MinMaxScaler()\n",
        "y = np.reshape(y, (-1, 1))\n",
        "scaler.fit(X[variables])\n",
        "scaler.fit(y)\n",
        "x_scale = scaler.transform(X[variables])\n",
        "y_scale = scaler.transform(y)\n",
        "X_train, X_test, y_train, y_test = train_test_split( x_scale, y_scale,\n",
        "                                                    test_size=0.3,\n",
        "                                                    random_state=42)\n",
        "\n",
        "lr  = LinearRegression()\n",
        "lr.fit(X_train, y_train)\n",
        "y_pred = lr.predict(X_test)\n",
        "print(\"Modelo de regresión lineal\")\n",
        "print(\"MSE:\", metrics.mean_squared_error(y_test, y_pred))\n",
        "\n"
      ],
      "execution_count": 21,
      "outputs": [
        {
          "output_type": "stream",
          "text": [
            "Modelo de regresión lineal\n",
            "MSE: 0.027390786677082626\n"
          ],
          "name": "stdout"
        }
      ]
    },
    {
      "cell_type": "markdown",
      "metadata": {
        "id": "dMrzYhtPjIBC",
        "colab_type": "text"
      },
      "source": [
        "# Implementación de la red Neuronal\n"
      ]
    },
    {
      "cell_type": "code",
      "metadata": {
        "id": "FuVjJFhYjLKF",
        "colab_type": "code",
        "colab": {}
      },
      "source": [
        "import tensorflow as tf\n",
        "\n",
        "history_sse = []\n",
        "mfs = []\n",
        "# Para determinar el número de capas en la capa oculta\n",
        "for h in range(1, 20):\n",
        "\n",
        "    model = tf.keras.Sequential()\n",
        "\n",
        "    # Capa oculta con h neuronas\n",
        "    model.add(tf.keras.layers.Dense(h, \n",
        "                                    activation = tf.nn.sigmoid,\n",
        "                                    input_shape = (X_train.shape[1], )))\n",
        "    # Capa de salida\n",
        "    model.add(tf.keras.layers.Dense(1, \n",
        "                                    activation = tf.nn.sigmoid))\n",
        "    \n",
        "    # Optimizador\n",
        "    # optimizer = tf.train.AdamOptimizer(learning_rate = 0.01)\n",
        "\n",
        "    ## \n",
        "    model.compile(loss = 'mse',\n",
        "                  metrics =['mse'])\n",
        "    \n",
        "    mf = model.fit(X_train, y_train, epochs = 1000, verbose = 0)\n",
        "    mfs.append(mf)\n",
        "    y_pred = [u[0] for u in model.predict(X_test).tolist()]\n",
        "\n",
        "    sse = np.sum(np.square(np.array(y_pred) - np.array(y_test)))\n",
        "    history_sse.append(sse)"
      ],
      "execution_count": 0,
      "outputs": []
    },
    {
      "cell_type": "markdown",
      "metadata": {
        "id": "Afexrp7X3DMf",
        "colab_type": "text"
      },
      "source": [
        "# Número de neuronas a usar\n",
        "Por lo visto en la siguiente gráfica se usarán 19 neuronas para la capa oculta de la red Neuronal"
      ]
    },
    {
      "cell_type": "code",
      "metadata": {
        "id": "tBPJMh801VhW",
        "colab_type": "code",
        "colab": {
          "base_uri": "https://localhost:8080/",
          "height": 316
        },
        "outputId": "b93e6139-907a-405d-d9f2-23acf37fb6a5"
      },
      "source": [
        "sse_min = min(history_sse)\n",
        "neuronas = history_sse.index(sse_min)+1\n",
        "print(\"Neuronas para usar en el modelo\", neuronas)\n",
        "plt.plot([i for i in range(1, 20)],history_sse, color = 'red')"
      ],
      "execution_count": 41,
      "outputs": [
        {
          "output_type": "stream",
          "text": [
            "19\n",
            "Neuronas para usar en el modelo 19\n"
          ],
          "name": "stdout"
        },
        {
          "output_type": "execute_result",
          "data": {
            "text/plain": [
              "[<matplotlib.lines.Line2D at 0x7f62144ab908>]"
            ]
          },
          "metadata": {
            "tags": []
          },
          "execution_count": 41
        },
        {
          "output_type": "display_data",
          "data": {
            "image/png": "[encoded data removed]",
            "text/plain": [
              "<Figure size 432x288 with 1 Axes>"
            ]
          },
          "metadata": {
            "tags": []
          }
        }
      ]
    },
    {
      "cell_type": "markdown",
      "metadata": {
        "id": "M1at7ZZe3rc_",
        "colab_type": "text"
      },
      "source": [
        "# Validación\n"
      ]
    },
    {
      "cell_type": "code",
      "metadata": {
        "id": "EuZ4Onxb3tg1",
        "colab_type": "code",
        "colab": {}
      },
      "source": [
        "def cross_val(train_index, test_index,X,y):\n",
        "\n",
        "    x_scale = scaler.transform(X[variables])\n",
        "    y_scale = scaler.transform(y)\n",
        "    \n",
        "    X_train = x_scale[train_index, :]\n",
        "    y_train = y_scale[train_index]\n",
        "    X_test = x_scale[test_index, :]\n",
        "    y_test = y_scale[test]\n",
        "\n",
        "    model = tf.keras.Sequential()\n",
        "\n",
        "    # Capa oculta con h neuronas\n",
        "    model.add(tf.keras.layers.Dense(5, \n",
        "                                    activation = tf.nn.sigmoid,\n",
        "                                    input_shape = (X_train.shape[1], )))\n",
        "    # Capa de salida\n",
        "    model.add(tf.keras.layers.Dense(1, \n",
        "                                    activation = tf.nn.sigmoid))\n",
        "\n",
        "    # Optimizador\n",
        "    # optimizer = tf.train.AdamOptimizer(learning_rate = 0.01)\n",
        "\n",
        "    ## \n",
        "    model.compile(loss = 'mse',\n",
        "                    metrics =['mse'])\n",
        "\n",
        "    mf = model.fit(X_train, y_train, epochs = 1000, verbose = 0)\n",
        "\n",
        "    y_pred = [u[0] for u in model.predict(X_test).tolist()]\n",
        "\n",
        "    sse = np.sum(np.square(np.array(y_pred) - np.array(y_test)))\n",
        "\n",
        "    return sse\n",
        "\n",
        "from sklearn.model_selection import KFold\n",
        "\n",
        "kf = KFold(n_splits=4)                       \n",
        "cross_results = []\n",
        "\n",
        "for train, test in kf.split(X):\n",
        "    cross_results.append(cross_val(train, test, X, y))\n",
        "\n",
        "\n"
      ],
      "execution_count": 0,
      "outputs": []
    },
    {
      "cell_type": "code",
      "metadata": {
        "id": "uA5cZEMP63MD",
        "colab_type": "code",
        "colab": {
          "base_uri": "https://localhost:8080/",
          "height": 34
        },
        "outputId": "d88a1ea4-ea22-4e4d-a7d1-d2838fe81c5c"
      },
      "source": [
        "resultado_cross_val = sum(cross_results)/ len(cross_results)\n",
        "print(\"El resultado del cross Validation es: \", resultado_cross_val)"
      ],
      "execution_count": 50,
      "outputs": [
        {
          "output_type": "stream",
          "text": [
            "El resultado del cross Validation es:  712.5420464080019\n"
          ],
          "name": "stdout"
        }
      ]
    }
  ]
}